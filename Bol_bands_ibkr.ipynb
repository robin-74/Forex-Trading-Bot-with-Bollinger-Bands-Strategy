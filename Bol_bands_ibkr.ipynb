{
 "cells": [
  {
   "cell_type": "code",
   "execution_count": 1,
   "id": "89d4c5e0-edcb-45e9-a72c-3a2ed8983e69",
   "metadata": {},
   "outputs": [],
   "source": [
    "import pandas as pd\n",
    "import numpy as np\n",
    "import yfinance as yf\n",
    "import matplotlib.pyplot as plt\n",
    "from ib_insync import *\n",
    "import datetime as dt\n",
    "from IPython.display import display,clear_output\n",
    "util.startLoop()\n",
    "ib = IB()\n"
   ]
  },
  {
   "cell_type": "code",
   "execution_count": 2,
   "id": "29493dd7-18ab-449b-9f9d-90c0d0f92dba",
   "metadata": {},
   "outputs": [
    {
     "data": {
      "text/plain": [
       "<IB connected to 127.0.0.1:7497 clientId=1>"
      ]
     },
     "execution_count": 2,
     "metadata": {},
     "output_type": "execute_result"
    }
   ],
   "source": [
    "ib.connect()"
   ]
  },
  {
   "cell_type": "code",
   "execution_count": null,
   "id": "2490b5d5-7baf-4d9c-88d3-bdf7fbf5b971",
   "metadata": {},
   "outputs": [],
   "source": [
    "from ib_insync import *\n",
    "import pandas as pd\n",
    "import numpy as np\n",
    "import datetime as dt\n",
    "import os\n",
    "\n",
    "ib = IB()\n",
    "ib.connect()\n",
    "\n",
    "# Strategy parameters\n",
    "sma_s = 20  # SMA period for Bollinger Bands\n",
    "freq = \"1 min\"\n",
    "units = 1000\n",
    "session_duration = dt.timedelta(hours=5)  # Run the session for 5 hours\n",
    "session_start = dt.datetime.now()  # Start time of the session\n",
    "end_time = session_start + session_duration  # Calculate the end time\n",
    "\n",
    "cfd = CFD(\"EUR\", currency=\"USD\")\n",
    "ib.qualifyContracts(cfd)\n",
    "conID = cfd.conId\n",
    "contract = Forex('EURUSD')\n",
    "ib.qualifyContracts(contract)\n",
    "\n",
    "def onBarUpdate(bars, hasNewBar):\n",
    "    global df, last_bar\n",
    "    if bars[-1].date > last_bar:\n",
    "        last_bar = bars[-1].date\n",
    "        df = pd.DataFrame(bars)[[\"date\", \"open\", \"high\", \"low\", \"close\"]].iloc[:-1]\n",
    "        df.set_index(\"date\", inplace=True)\n",
    "        ############### BOLLINGER BANDS STRATEGY #################\n",
    "        df = df[[\"close\"]].copy()\n",
    "        df[\"SMA\"] = df.close.rolling(sma_s).mean()  # Middle band\n",
    "        df[\"std\"] = df.close.rolling(sma_s).std()\n",
    "        df[\"Upper\"] = df[\"SMA\"] + (df[\"std\"] * 2)  # Upper band\n",
    "        df[\"Lower\"] = df[\"SMA\"] - (df[\"std\"] * 2)  # Lower band\n",
    "        df.dropna(inplace=True)\n",
    "        # Define position: 1 (long) if prices below the lower band,\n",
    "        # -1 (short) if prices above the upper band, else neutral\n",
    "        df[\"position\"] = np.where(df[\"close\"] < df[\"Lower\"], 1, 0)\n",
    "        df[\"position\"] = np.where(df[\"close\"] > df[\"Upper\"], -1, df[\"position\"])\n",
    "        #########################################################\n",
    "        # Trading\n",
    "        target = df[\"position\"][-1] * units\n",
    "        execute_trade(target=target)\n",
    "        os.system('cls')\n",
    "        print(df)\n",
    "    else:\n",
    "        try:\n",
    "            trade_reporting()\n",
    "        except:\n",
    "            pass\n",
    "\n",
    "def execute_trade(target):\n",
    "    global current_pos\n",
    "    # 1. Get current position\n",
    "    try:\n",
    "        current_pos = [pos.position for pos in ib.positions() if pos.contract.conId == conID][0]\n",
    "    except:\n",
    "        current_pos = 0\n",
    "    # 2. Identify required trades\n",
    "    trades = target - current_pos\n",
    "\n",
    "    # Trade execution\n",
    "    if trades > 0:\n",
    "        side = \"BUY\"\n",
    "        order = MarketOrder(side, abs(trades))\n",
    "        trade = ib.placeOrder(cfd, order)\n",
    "    elif trades < 0:\n",
    "        side = \"SELL\"\n",
    "        order = MarketOrder(side, abs(trades))\n",
    "        trade = ib.placeOrder(cfd, order)\n",
    "    else:\n",
    "        pass\n",
    "\n",
    "def trade_reporting():\n",
    "    global report\n",
    "\n",
    "    fill_df = util.df([fs.execution for fs in ib.fills()])[[\"execId\", \"time\", \"side\", \"cumQty\", \"avgPrice\"]].set_index(\"execId\")\n",
    "    profit_df = util.df([fs.commissionReport for fs in ib.fills()])[[\"execId\", \"realizedPNL\"]].set_index(\"execId\")\n",
    "    report = pd.concat([fill_df, profit_df], axis=1).set_index(\"time\").loc[session_start:]\n",
    "    report = report.groupby(\"time\").agg({\"side\": \"first\", \"cumQty\": \"max\", \"avgPrice\": \"mean\", \"realizedPNL\": \"sum\"})\n",
    "    report[\"cumPNL\"] = report.realizedPNL.cumsum()\n",
    "\n",
    "    os.system('cls')\n",
    "    print(df, report)\n",
    "\n",
    "if __name__ == \"__main__\":\n",
    "    bars = ib.reqHistoricalData(\n",
    "        contract,\n",
    "        endDateTime='',\n",
    "        durationStr='1 D',\n",
    "        barSizeSetting=freq,\n",
    "        whatToShow='MIDPOINT',\n",
    "        useRTH=True,\n",
    "        formatDate=2,\n",
    "        keepUpToDate=True\n",
    "    )\n",
    "    last_bar = bars[-1].date\n",
    "    bars.updateEvent += onBarUpdate\n",
    "\n",
    "    # Stop trading session after 5 hours\n",
    "    while True:\n",
    "        ib.sleep(5)  # Check every 5 seconds\n",
    "        if dt.datetime.now() >= end_time:  # If the session duration has been met\n",
    "            execute_trade(target=0)  # Close open position\n",
    "            ib.cancelHistoricalData(bars)  # Stop stream\n",
    "            ib.sleep(10)\n",
    "            try:\n",
    "                trade_reporting()  # Final reporting\n",
    "            except:\n",
    "                pass\n",
    "            print(\"Session Stopped.\")\n",
    "            ib.disconnect()\n",
    "            break\n",
    "        else:\n",
    "            pass\n"
   ]
  },
  {
   "cell_type": "code",
   "execution_count": null,
   "id": "28d1bed6-d307-464e-95e6-3c7156ef0fe0",
   "metadata": {},
   "outputs": [],
   "source": []
  },
  {
   "cell_type": "code",
   "execution_count": null,
   "id": "179b4fc4-11ab-47dd-95a4-c1799d9eca09",
   "metadata": {},
   "outputs": [],
   "source": []
  },
  {
   "cell_type": "code",
   "execution_count": null,
   "id": "88da41e2-315f-41bd-a12b-c2db6e946f4b",
   "metadata": {},
   "outputs": [],
   "source": []
  },
  {
   "cell_type": "code",
   "execution_count": null,
   "id": "ddd508a7-f402-4a73-a25d-d147eca8d2e9",
   "metadata": {},
   "outputs": [],
   "source": [
    "ib.disconnect()"
   ]
  },
  {
   "cell_type": "markdown",
   "id": "ba8fc421-97e4-4198-9c49-d3a4ee9c64de",
   "metadata": {},
   "source": [
    "ib.disconnect()"
   ]
  },
  {
   "cell_type": "code",
   "execution_count": 14,
   "id": "35eb183b-901a-4f21-9bf4-7783c25e448a",
   "metadata": {},
   "outputs": [
    {
     "name": "stdout",
     "output_type": "stream",
     "text": [
      "he\n"
     ]
    }
   ],
   "source": [
    "print(\"he\")"
   ]
  },
  {
   "cell_type": "code",
   "execution_count": null,
   "id": "636ccdf5-8afa-416e-b31f-e9119d4c9ccd",
   "metadata": {},
   "outputs": [],
   "source": []
  },
  {
   "cell_type": "code",
   "execution_count": null,
   "id": "f5560188-58c6-4317-8d8f-81f3b00a889f",
   "metadata": {},
   "outputs": [],
   "source": []
  },
  {
   "cell_type": "code",
   "execution_count": null,
   "id": "e7c3a40d-d502-4fa9-b2da-5beed56ffb3d",
   "metadata": {},
   "outputs": [],
   "source": []
  }
 ],
 "metadata": {
  "kernelspec": {
   "display_name": "Python 3 (ipykernel)",
   "language": "python",
   "name": "python3"
  },
  "language_info": {
   "codemirror_mode": {
    "name": "ipython",
    "version": 3
   },
   "file_extension": ".py",
   "mimetype": "text/x-python",
   "name": "python",
   "nbconvert_exporter": "python",
   "pygments_lexer": "ipython3",
   "version": "3.11.7"
  }
 },
 "nbformat": 4,
 "nbformat_minor": 5
}
